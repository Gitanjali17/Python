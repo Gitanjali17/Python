{
  "nbformat": 4,
  "nbformat_minor": 0,
  "metadata": {
    "colab": {
      "name": "Decorator.ipynb",
      "provenance": [],
      "include_colab_link": true
    },
    "kernelspec": {
      "name": "python3",
      "display_name": "Python 3"
    }
  },
  "cells": [
    {
      "cell_type": "markdown",
      "metadata": {
        "id": "view-in-github",
        "colab_type": "text"
      },
      "source": [
        "<a href=\"https://colab.research.google.com/github/Gitanjali17/Python/blob/master/Decorator.ipynb\" target=\"_parent\"><img src=\"https://colab.research.google.com/assets/colab-badge.svg\" alt=\"Open In Colab\"/></a>"
      ]
    },
    {
      "cell_type": "code",
      "metadata": {
        "id": "OtD8drg_aAt5",
        "colab_type": "code",
        "colab": {
          "base_uri": "https://localhost:8080/",
          "height": 68
        },
        "outputId": "2f1f3326-4eeb-41b3-89fa-792b89011890"
      },
      "source": [
        "x= lambda a,b :a*b\n",
        "a=int(input(\"enter num\"))\n",
        "b=int(input(\"enter second num\"))\n",
        "print(x(a,b))"
      ],
      "execution_count": 9,
      "outputs": [
        {
          "output_type": "stream",
          "text": [
            "enter num3\n",
            "enter second num2\n",
            "6\n"
          ],
          "name": "stdout"
        }
      ]
    },
    {
      "cell_type": "code",
      "metadata": {
        "id": "_eBb4iOXe6K8",
        "colab_type": "code",
        "colab": {
          "base_uri": "https://localhost:8080/",
          "height": 204
        },
        "outputId": "11ffeec0-da77-43e3-c0ee-b6b1cd917d4e"
      },
      "source": [
        "mylist = []\n",
        "size = int(input(\"Enter the size of list: \"))\n",
        "\n",
        "for i in range(0,size):\n",
        "  mylist.append(int(input(\"Enter Numbers: \")))\n",
        "\n",
        "print(mylist)\n",
        "\n",
        "mylist2 = [x for x in mylist if x%3 == 0]\n",
        "print(mylist2)"
      ],
      "execution_count": 6,
      "outputs": [
        {
          "output_type": "stream",
          "text": [
            "Enter the size of list: 8\n",
            "Enter Numbers: 11\n",
            "Enter Numbers: 23\n",
            "Enter Numbers: 9\n",
            "Enter Numbers: 7\n",
            "Enter Numbers: 13\n",
            "Enter Numbers: 55\n",
            "Enter Numbers: 6\n",
            "Enter Numbers: 4\n",
            "[11, 23, 9, 7, 13, 55, 6, 4]\n",
            "[9, 6]\n"
          ],
          "name": "stdout"
        }
      ]
    },
    {
      "cell_type": "code",
      "metadata": {
        "id": "ZmeIu88TiOOw",
        "colab_type": "code",
        "colab": {}
      },
      "source": [
        "# Closure\n",
        "def outer_func(msg):\n",
        "    def inner_func():\n",
        "        print(\"Message:\",msg)\n",
        "    return inner_func\n",
        "        \n"
      ],
      "execution_count": 0,
      "outputs": []
    },
    {
      "cell_type": "code",
      "metadata": {
        "id": "qZH3by5niwvR",
        "colab_type": "code",
        "colab": {
          "base_uri": "https://localhost:8080/",
          "height": 34
        },
        "outputId": "36d281be-cdb4-47d9-a08f-d9a02a9d1d90"
      },
      "source": [
        "outer_func(\"Rupal\")()"
      ],
      "execution_count": 18,
      "outputs": [
        {
          "output_type": "stream",
          "text": [
            "Message: Rupal\n"
          ],
          "name": "stdout"
        }
      ]
    },
    {
      "cell_type": "code",
      "metadata": {
        "id": "hSy5o6KVjhy9",
        "colab_type": "code",
        "colab": {}
      },
      "source": [
        "# Closure\n",
        "def outer_func(msg):\n",
        "    def inner_func():\n",
        "        print(\"Message:\",msg)\n",
        "    return inner_func()"
      ],
      "execution_count": 0,
      "outputs": []
    },
    {
      "cell_type": "code",
      "metadata": {
        "id": "bo0-XjyXkBdA",
        "colab_type": "code",
        "colab": {
          "base_uri": "https://localhost:8080/",
          "height": 34
        },
        "outputId": "2254c189-7255-4715-f340-b09f892dd5a1"
      },
      "source": [
        "outer_func(\"Kunal\")"
      ],
      "execution_count": 20,
      "outputs": [
        {
          "output_type": "stream",
          "text": [
            "Message: Kunal\n"
          ],
          "name": "stdout"
        }
      ]
    },
    {
      "cell_type": "code",
      "metadata": {
        "id": "PRb27syDlhUI",
        "colab_type": "code",
        "colab": {}
      },
      "source": [
        "# Use case\n",
        "def decorator_function(Orignal_Function): # Passing a function in Decorator\n",
        "    def wrapper_function():\n",
        "        print(\"wrapper function exectes orignal function that is {}\".format(Orignal_Function.__name__))\n",
        "        return Orignal_Function() # executing a function passed by outer function in wrapper function.\n",
        "    return wrapper_function\n",
        "\n",
        "def decorator_function1(Orignal_Function): # Passing a function in Decorator\n",
        "    def wrapper_function():\n",
        "        print(\"I am Rupal and im executing {}\".format(Orignal_Function.__name__))\n",
        "        return Orignal_Function() # executing a function passed by outer function in wrapper function.\n",
        "    return wrapper_function\n",
        "\n",
        "def display(): # an example function created to pass in decorator\n",
        "    print(\"Display Bottleguard\")\n",
        "    "
      ],
      "execution_count": 0,
      "outputs": []
    },
    {
      "cell_type": "code",
      "metadata": {
        "id": "SIA3Qt-_l0wG",
        "colab_type": "code",
        "colab": {
          "base_uri": "https://localhost:8080/",
          "height": 34
        },
        "outputId": "fd7d1fc5-d3c2-4059-b56c-b162b672e8bb"
      },
      "source": [
        "display()"
      ],
      "execution_count": 30,
      "outputs": [
        {
          "output_type": "stream",
          "text": [
            "Display Bottleguard\n"
          ],
          "name": "stdout"
        }
      ]
    },
    {
      "cell_type": "code",
      "metadata": {
        "id": "yBqNSHrpl_8v",
        "colab_type": "code",
        "colab": {
          "base_uri": "https://localhost:8080/",
          "height": 51
        },
        "outputId": "79f76e36-6e2e-49b7-98b0-aa0427eb6cc7"
      },
      "source": [
        "hh = decorator_function(display)\n",
        "hh()"
      ],
      "execution_count": 33,
      "outputs": [
        {
          "output_type": "stream",
          "text": [
            "wrapper function exectes orignal function that is display\n",
            "Display Bottleguard\n"
          ],
          "name": "stdout"
        }
      ]
    },
    {
      "cell_type": "code",
      "metadata": {
        "id": "fb7OhcVOo9xH",
        "colab_type": "code",
        "colab": {
          "base_uri": "https://localhost:8080/",
          "height": 51
        },
        "outputId": "ac6b6555-736a-47be-970f-6a0e63292c26"
      },
      "source": [
        "# easy syntax for assigning decorators:\n",
        "def decorator_function(Orignal_Function): # Passing a function in Decorator\n",
        "    def wrapper_function():\n",
        "        print(\"wrapper function executes orignal function that is {}\".format(Orignal_Function.__name__))\n",
        "        return Orignal_Function() # executing a function passed by outer function in wrapper function.\n",
        "    return wrapper_function\n",
        "\n",
        "@decorator_function # wrapper function is assigned to orignal function in order to add some functionality.\n",
        "def display(): # an orignal function created to pass in decorator\n",
        "    print(\"Display Function Ran.\")\n",
        "    \n",
        "display()"
      ],
      "execution_count": 35,
      "outputs": [
        {
          "output_type": "stream",
          "text": [
            "wrapper function executes orignal function that is display\n",
            "Display Function Ran.\n"
          ],
          "name": "stdout"
        }
      ]
    },
    {
      "cell_type": "code",
      "metadata": {
        "id": "oJ_1NmvypiOr",
        "colab_type": "code",
        "colab": {
          "base_uri": "https://localhost:8080/",
          "height": 51
        },
        "outputId": "42828a54-3c6a-4a54-90ef-1c07771c820f"
      },
      "source": [
        "display()"
      ],
      "execution_count": 36,
      "outputs": [
        {
          "output_type": "stream",
          "text": [
            "wrapper function executes orignal function that is display\n",
            "Display Function Ran.\n"
          ],
          "name": "stdout"
        }
      ]
    }
  ]
}