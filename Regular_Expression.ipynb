{
  "nbformat": 4,
  "nbformat_minor": 0,
  "metadata": {
    "colab": {
      "name": "Regular_Expression.ipynb",
      "provenance": [],
      "include_colab_link": true
    },
    "kernelspec": {
      "name": "python3",
      "display_name": "Python 3"
    }
  },
  "cells": [
    {
      "cell_type": "markdown",
      "metadata": {
        "id": "view-in-github",
        "colab_type": "text"
      },
      "source": [
        "<a href=\"https://colab.research.google.com/github/Gitanjali17/Python/blob/master/Regular_Expression.ipynb\" target=\"_parent\"><img src=\"https://colab.research.google.com/assets/colab-badge.svg\" alt=\"Open In Colab\"/></a>"
      ]
    },
    {
      "cell_type": "code",
      "metadata": {
        "id": "EnB1kAD5m4yE",
        "colab_type": "code",
        "colab": {}
      },
      "source": [
        "import re"
      ],
      "execution_count": 0,
      "outputs": []
    },
    {
      "cell_type": "code",
      "metadata": {
        "id": "ySi2cVlInrft",
        "colab_type": "code",
        "colab": {
          "base_uri": "https://localhost:8080/",
          "height": 34
        },
        "outputId": "a33b6301-4018-4609-d0f6-2a7ed8bd1e9b"
      },
      "source": [
        "print(r\"\\tKunal\")"
      ],
      "execution_count": 21,
      "outputs": [
        {
          "output_type": "stream",
          "text": [
            "\\tKunal\n"
          ],
          "name": "stdout"
        }
      ]
    },
    {
      "cell_type": "code",
      "metadata": {
        "id": "QPS2n0jvo9Ia",
        "colab_type": "code",
        "colab": {}
      },
      "source": [
        "text = '''\n",
        "abcdefghijklmnopqurtuvwxyz\n",
        "ABCDEFGHIJKLMNOPQRSTUVWXYZ\n",
        "1234567890\n",
        "Ha HaHa\n",
        "MetaCharacters (Need to be escaped):\n",
        ". ^ $ * + ? { } [ ] \\ | ( )\n",
        "kunal222@gmail.com\n",
        "ravi12345@gmail.com\n",
        "rajan.123@gmail.com\n",
        "gmail.com\n",
        "321-555-4321\n",
        "123.555.1234\n",
        "123*555*1234\n",
        "800-555-1234\n",
        "900-555-1234\n",
        "Mr. Schafer\n",
        "Mr Smith\n",
        "Ms Davis\n",
        "Mrs. Robinson\n",
        "Mr. T\n",
        "'''"
      ],
      "execution_count": 0,
      "outputs": []
    },
    {
      "cell_type": "code",
      "metadata": {
        "id": "gCCZNt-bpMrI",
        "colab_type": "code",
        "colab": {}
      },
      "source": [
        "pattern = re.compile(r'ghi')"
      ],
      "execution_count": 0,
      "outputs": []
    },
    {
      "cell_type": "code",
      "metadata": {
        "id": "WVHavDMZqMoF",
        "colab_type": "code",
        "colab": {}
      },
      "source": [
        "match = pattern.finditer(text)"
      ],
      "execution_count": 0,
      "outputs": []
    },
    {
      "cell_type": "code",
      "metadata": {
        "id": "oo3R4P1Pqz6G",
        "colab_type": "code",
        "colab": {
          "base_uri": "https://localhost:8080/",
          "height": 34
        },
        "outputId": "57fa6490-9ca7-44d0-8ec5-23e09b362639"
      },
      "source": [
        "for i in match:\n",
        "  print(i)"
      ],
      "execution_count": 29,
      "outputs": [
        {
          "output_type": "stream",
          "text": [
            "<_sre.SRE_Match object; span=(7, 10), match='ghi'>\n"
          ],
          "name": "stdout"
        }
      ]
    },
    {
      "cell_type": "code",
      "metadata": {
        "id": "uTZlNEFsrQmH",
        "colab_type": "code",
        "colab": {
          "base_uri": "https://localhost:8080/",
          "height": 34
        },
        "outputId": "e6f558d7-eeef-4fd0-c40d-8314c4aefd4c"
      },
      "source": [
        "text[7:10]"
      ],
      "execution_count": 30,
      "outputs": [
        {
          "output_type": "execute_result",
          "data": {
            "text/plain": [
              "'ghi'"
            ]
          },
          "metadata": {
            "tags": []
          },
          "execution_count": 30
        }
      ]
    },
    {
      "cell_type": "code",
      "metadata": {
        "id": "fmP55il7sq3h",
        "colab_type": "code",
        "colab": {
          "base_uri": "https://localhost:8080/",
          "height": 204
        },
        "outputId": "33a71fc3-ed5d-47f5-9a38-aaae911c9d3a"
      },
      "source": [
        "pattern = re.compile(r'\\.')\n",
        "match = pattern.finditer(text)\n",
        "\n",
        "for m in match:\n",
        "  print(m)"
      ],
      "execution_count": 35,
      "outputs": [
        {
          "output_type": "stream",
          "text": [
            "<_sre.SRE_Match object; span=(111, 112), match='.'>\n",
            "<_sre.SRE_Match object; span=(153, 154), match='.'>\n",
            "<_sre.SRE_Match object; span=(173, 174), match='.'>\n",
            "<_sre.SRE_Match object; span=(183, 184), match='.'>\n",
            "<_sre.SRE_Match object; span=(193, 194), match='.'>\n",
            "<_sre.SRE_Match object; span=(203, 204), match='.'>\n",
            "<_sre.SRE_Match object; span=(224, 225), match='.'>\n",
            "<_sre.SRE_Match object; span=(228, 229), match='.'>\n",
            "<_sre.SRE_Match object; span=(275, 276), match='.'>\n",
            "<_sre.SRE_Match object; span=(306, 307), match='.'>\n",
            "<_sre.SRE_Match object; span=(319, 320), match='.'>\n"
          ],
          "name": "stdout"
        }
      ]
    },
    {
      "cell_type": "code",
      "metadata": {
        "id": "4Rs7Rnw4tkQp",
        "colab_type": "code",
        "colab": {}
      },
      "source": [
        "pattern = re.compile(r'\\.')\n",
        "match = pattern.finditer(text)\n",
        "\n",
        "for m in match:\n",
        "  print(m)"
      ],
      "execution_count": 0,
      "outputs": []
    },
    {
      "cell_type": "code",
      "metadata": {
        "id": "qG9Nkpa1twym",
        "colab_type": "code",
        "colab": {
          "base_uri": "https://localhost:8080/",
          "height": 102
        },
        "outputId": "75dedad2-8737-4341-c7c2-96b5cd013566"
      },
      "source": [
        "pattern = re.compile(r'\\d\\d\\d.\\d\\d\\d.\\d\\d\\d\\d')\n",
        "match = pattern.finditer(text)\n",
        "\n",
        "for m in match:\n",
        "  print(m)"
      ],
      "execution_count": 36,
      "outputs": [
        {
          "output_type": "stream",
          "text": [
            "<_sre.SRE_Match object; span=(208, 220), match='321-555-4321'>\n",
            "<_sre.SRE_Match object; span=(221, 233), match='123.555.1234'>\n",
            "<_sre.SRE_Match object; span=(234, 246), match='123*555*1234'>\n",
            "<_sre.SRE_Match object; span=(247, 259), match='800-555-1234'>\n",
            "<_sre.SRE_Match object; span=(260, 272), match='900-555-1234'>\n"
          ],
          "name": "stdout"
        }
      ]
    },
    {
      "cell_type": "code",
      "metadata": {
        "id": "5ZTtpH9ousIa",
        "colab_type": "code",
        "colab": {
          "base_uri": "https://localhost:8080/",
          "height": 102
        },
        "outputId": "118381a9-6064-425e-9772-2739fca0c8ca"
      },
      "source": [
        "pattern = re.compile(r'\\d\\d\\d[.*-]\\d\\d\\d[.*-]\\d\\d\\d\\d')\n",
        "match = pattern.finditer(text)\n",
        "\n",
        "for m in match:\n",
        "  print(m)"
      ],
      "execution_count": 41,
      "outputs": [
        {
          "output_type": "stream",
          "text": [
            "<_sre.SRE_Match object; span=(208, 220), match='321-555-4321'>\n",
            "<_sre.SRE_Match object; span=(221, 233), match='123.555.1234'>\n",
            "<_sre.SRE_Match object; span=(234, 246), match='123*555*1234'>\n",
            "<_sre.SRE_Match object; span=(247, 259), match='800-555-1234'>\n",
            "<_sre.SRE_Match object; span=(260, 272), match='900-555-1234'>\n"
          ],
          "name": "stdout"
        }
      ]
    },
    {
      "cell_type": "code",
      "metadata": {
        "id": "T9_XtGS5voqT",
        "colab_type": "code",
        "colab": {
          "base_uri": "https://localhost:8080/",
          "height": 51
        },
        "outputId": "6b8f0a01-6a2c-4c38-ebd9-267a48886709"
      },
      "source": [
        "# pattern for finding numbers starting from specific number such as 800. or 900.\n",
        "pattern = re.compile(r'[8|9]00.\\d\\d\\d.\\d\\d\\d\\d')\n",
        "match = pattern.finditer(text)\n",
        "for i in match:\n",
        "    print(i)"
      ],
      "execution_count": 42,
      "outputs": [
        {
          "output_type": "stream",
          "text": [
            "<_sre.SRE_Match object; span=(247, 259), match='800-555-1234'>\n",
            "<_sre.SRE_Match object; span=(260, 272), match='900-555-1234'>\n"
          ],
          "name": "stdout"
        }
      ]
    },
    {
      "cell_type": "code",
      "metadata": {
        "id": "e0eW6a0UwSqj",
        "colab_type": "code",
        "colab": {
          "base_uri": "https://localhost:8080/",
          "height": 34
        },
        "outputId": "68421225-9945-4360-967f-44026322969c"
      },
      "source": [
        "# pattern to find the numbers which starts except 8 and 9\n",
        "pattern = re.compile(r'\\d\\d\\d.[5][5][5].\\d\\d\\d[^4]')\n",
        "match = pattern.finditer(text)\n",
        "for i in match:\n",
        "    print(i)"
      ],
      "execution_count": 46,
      "outputs": [
        {
          "output_type": "stream",
          "text": [
            "<_sre.SRE_Match object; span=(208, 220), match='321-555-4321'>\n"
          ],
          "name": "stdout"
        }
      ]
    },
    {
      "cell_type": "code",
      "metadata": {
        "id": "JSZJWIybxHPl",
        "colab_type": "code",
        "colab": {
          "base_uri": "https://localhost:8080/",
          "height": 68
        },
        "outputId": "e361bbfe-5982-43a9-d49a-6babb2fbc59a"
      },
      "source": [
        "# Using Quantifiers means instead of writing \\d\\d\\d, we can write \\d{3}\n",
        "# pattern to find the numbers which starts except 8 and 9\n",
        "pattern = re.compile(r'[^8^9]\\d{2}[*.-]\\d{3}[*.-]\\d{4}')\n",
        "match = pattern.finditer(text)\n",
        "for i in match:\n",
        "    print(i)"
      ],
      "execution_count": 47,
      "outputs": [
        {
          "output_type": "stream",
          "text": [
            "<_sre.SRE_Match object; span=(208, 220), match='321-555-4321'>\n",
            "<_sre.SRE_Match object; span=(221, 233), match='123.555.1234'>\n",
            "<_sre.SRE_Match object; span=(234, 246), match='123*555*1234'>\n"
          ],
          "name": "stdout"
        }
      ]
    },
    {
      "cell_type": "code",
      "metadata": {
        "id": "niIECwdZxaEC",
        "colab_type": "code",
        "colab": {
          "base_uri": "https://localhost:8080/",
          "height": 85
        },
        "outputId": "084481ca-eca5-4468-ac10-3d1db9477c45"
      },
      "source": [
        "pattern = re.compile(r'@?gmail.com')\n",
        "match = pattern.finditer(text)\n",
        "for i in match:\n",
        "    print(i)"
      ],
      "execution_count": 49,
      "outputs": [
        {
          "output_type": "stream",
          "text": [
            "<_sre.SRE_Match object; span=(147, 157), match='@gmail.com'>\n",
            "<_sre.SRE_Match object; span=(167, 177), match='@gmail.com'>\n",
            "<_sre.SRE_Match object; span=(187, 197), match='@gmail.com'>\n",
            "<_sre.SRE_Match object; span=(198, 207), match='gmail.com'>\n"
          ],
          "name": "stdout"
        }
      ]
    },
    {
      "cell_type": "code",
      "metadata": {
        "id": "2TmYEaiS6X8x",
        "colab_type": "code",
        "colab": {}
      },
      "source": [
        ""
      ],
      "execution_count": 0,
      "outputs": []
    }
  ]
}