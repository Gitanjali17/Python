{
  "nbformat": 4,
  "nbformat_minor": 0,
  "metadata": {
    "colab": {
      "name": "Regular_Expression.ipynb",
      "provenance": [],
      "include_colab_link": true
    },
    "kernelspec": {
      "name": "python3",
      "display_name": "Python 3"
    }
  },
  "cells": [
    {
      "cell_type": "markdown",
      "metadata": {
        "id": "view-in-github",
        "colab_type": "text"
      },
      "source": [
        "<a href=\"https://colab.research.google.com/github/Gitanjali17/Python/blob/master/Regular_Expression.ipynb\" target=\"_parent\"><img src=\"https://colab.research.google.com/assets/colab-badge.svg\" alt=\"Open In Colab\"/></a>"
      ]
    },
    {
      "cell_type": "code",
      "metadata": {
        "id": "EnB1kAD5m4yE",
        "colab_type": "code",
        "colab": {}
      },
      "source": [
        "import re"
      ],
      "execution_count": 0,
      "outputs": []
    },
    {
      "cell_type": "code",
      "metadata": {
        "id": "ySi2cVlInrft",
        "colab_type": "code",
        "outputId": "cc49d8ce-f239-460d-fdc6-e23b1c89e561",
        "colab": {
          "base_uri": "https://localhost:8080/",
          "height": 34
        }
      },
      "source": [
        "print(r\"\\tKunal\")"
      ],
      "execution_count": 28,
      "outputs": [
        {
          "output_type": "stream",
          "text": [
            "\\tKunal\n"
          ],
          "name": "stdout"
        }
      ]
    },
    {
      "cell_type": "code",
      "metadata": {
        "id": "QPS2n0jvo9Ia",
        "colab_type": "code",
        "colab": {}
      },
      "source": [
        "text = '''\n",
        "abcdefghijklmnopqurtuvwxyz\n",
        "ABCDEFGHIJKLMNOPQRSTUVWXYZ\n",
        "1234567890\n",
        "Ha HaHa\n",
        "MetaCharacters (Need to be escaped):\n",
        ". ^ $ * + ? { } [ ] \\ | ( )\n",
        "kunal222@gmail.com\n",
        "ravi12345@gmail.com\n",
        "rajan.123@gmail.com\n",
        "gmail.com\n",
        "321-555-4321\n",
        "123.555.1234\n",
        "123*555*1234\n",
        "800-555-1234\n",
        "900-555-1234\n",
        "Mr. Schafer\n",
        "Mr Smith\n",
        "Ms Davis\n",
        "Mrs. Robinson\n",
        "Mr. T\n",
        "'''"
      ],
      "execution_count": 0,
      "outputs": []
    },
    {
      "cell_type": "code",
      "metadata": {
        "id": "gCCZNt-bpMrI",
        "colab_type": "code",
        "colab": {}
      },
      "source": [
        "pattern = re.compile(r'ghi')"
      ],
      "execution_count": 0,
      "outputs": []
    },
    {
      "cell_type": "code",
      "metadata": {
        "id": "WVHavDMZqMoF",
        "colab_type": "code",
        "colab": {}
      },
      "source": [
        "match = pattern.finditer(text)"
      ],
      "execution_count": 0,
      "outputs": []
    },
    {
      "cell_type": "code",
      "metadata": {
        "id": "oo3R4P1Pqz6G",
        "colab_type": "code",
        "outputId": "32c31c70-8c0c-4045-fb89-ee2385893c1b",
        "colab": {
          "base_uri": "https://localhost:8080/",
          "height": 34
        }
      },
      "source": [
        "for i in match:\n",
        "  print(i)"
      ],
      "execution_count": 32,
      "outputs": [
        {
          "output_type": "stream",
          "text": [
            "<_sre.SRE_Match object; span=(7, 10), match='ghi'>\n"
          ],
          "name": "stdout"
        }
      ]
    },
    {
      "cell_type": "code",
      "metadata": {
        "id": "uTZlNEFsrQmH",
        "colab_type": "code",
        "outputId": "2ce31168-89bf-4ac4-e01d-608ad9a59e47",
        "colab": {
          "base_uri": "https://localhost:8080/",
          "height": 34
        }
      },
      "source": [
        "text[7:10]"
      ],
      "execution_count": 33,
      "outputs": [
        {
          "output_type": "execute_result",
          "data": {
            "text/plain": [
              "'ghi'"
            ]
          },
          "metadata": {
            "tags": []
          },
          "execution_count": 33
        }
      ]
    },
    {
      "cell_type": "code",
      "metadata": {
        "id": "fmP55il7sq3h",
        "colab_type": "code",
        "outputId": "8e83d062-1a43-4025-95b6-29406ae0397b",
        "colab": {
          "base_uri": "https://localhost:8080/",
          "height": 204
        }
      },
      "source": [
        "pattern = re.compile(r'\\.')\n",
        "match = pattern.finditer(text)\n",
        "\n",
        "for m in match:\n",
        "  print(m)"
      ],
      "execution_count": 34,
      "outputs": [
        {
          "output_type": "stream",
          "text": [
            "<_sre.SRE_Match object; span=(111, 112), match='.'>\n",
            "<_sre.SRE_Match object; span=(153, 154), match='.'>\n",
            "<_sre.SRE_Match object; span=(173, 174), match='.'>\n",
            "<_sre.SRE_Match object; span=(183, 184), match='.'>\n",
            "<_sre.SRE_Match object; span=(193, 194), match='.'>\n",
            "<_sre.SRE_Match object; span=(203, 204), match='.'>\n",
            "<_sre.SRE_Match object; span=(224, 225), match='.'>\n",
            "<_sre.SRE_Match object; span=(228, 229), match='.'>\n",
            "<_sre.SRE_Match object; span=(275, 276), match='.'>\n",
            "<_sre.SRE_Match object; span=(306, 307), match='.'>\n",
            "<_sre.SRE_Match object; span=(319, 320), match='.'>\n"
          ],
          "name": "stdout"
        }
      ]
    },
    {
      "cell_type": "code",
      "metadata": {
        "id": "4Rs7Rnw4tkQp",
        "colab_type": "code",
        "colab": {
          "base_uri": "https://localhost:8080/",
          "height": 204
        },
        "outputId": "07c24776-a6b7-440f-d43f-e52c5404dc19"
      },
      "source": [
        "pattern = re.compile(r'\\.')\n",
        "match = pattern.finditer(text)\n",
        "\n",
        "for m in match:\n",
        "  print(m)"
      ],
      "execution_count": 35,
      "outputs": [
        {
          "output_type": "stream",
          "text": [
            "<_sre.SRE_Match object; span=(111, 112), match='.'>\n",
            "<_sre.SRE_Match object; span=(153, 154), match='.'>\n",
            "<_sre.SRE_Match object; span=(173, 174), match='.'>\n",
            "<_sre.SRE_Match object; span=(183, 184), match='.'>\n",
            "<_sre.SRE_Match object; span=(193, 194), match='.'>\n",
            "<_sre.SRE_Match object; span=(203, 204), match='.'>\n",
            "<_sre.SRE_Match object; span=(224, 225), match='.'>\n",
            "<_sre.SRE_Match object; span=(228, 229), match='.'>\n",
            "<_sre.SRE_Match object; span=(275, 276), match='.'>\n",
            "<_sre.SRE_Match object; span=(306, 307), match='.'>\n",
            "<_sre.SRE_Match object; span=(319, 320), match='.'>\n"
          ],
          "name": "stdout"
        }
      ]
    },
    {
      "cell_type": "code",
      "metadata": {
        "id": "qG9Nkpa1twym",
        "colab_type": "code",
        "outputId": "75dedad2-8737-4341-c7c2-96b5cd013566",
        "colab": {
          "base_uri": "https://localhost:8080/",
          "height": 102
        }
      },
      "source": [
        "pattern = re.compile(r'\\d\\d\\d.\\d\\d\\d.\\d\\d\\d\\d')\n",
        "match = pattern.finditer(text)\n",
        "\n",
        "for m in match:\n",
        "  print(m)"
      ],
      "execution_count": 0,
      "outputs": [
        {
          "output_type": "stream",
          "text": [
            "<_sre.SRE_Match object; span=(208, 220), match='321-555-4321'>\n",
            "<_sre.SRE_Match object; span=(221, 233), match='123.555.1234'>\n",
            "<_sre.SRE_Match object; span=(234, 246), match='123*555*1234'>\n",
            "<_sre.SRE_Match object; span=(247, 259), match='800-555-1234'>\n",
            "<_sre.SRE_Match object; span=(260, 272), match='900-555-1234'>\n"
          ],
          "name": "stdout"
        }
      ]
    },
    {
      "cell_type": "code",
      "metadata": {
        "id": "5ZTtpH9ousIa",
        "colab_type": "code",
        "outputId": "118381a9-6064-425e-9772-2739fca0c8ca",
        "colab": {
          "base_uri": "https://localhost:8080/",
          "height": 102
        }
      },
      "source": [
        "pattern = re.compile(r'\\d\\d\\d[.*-]\\d\\d\\d[.*-]\\d\\d\\d\\d')\n",
        "match = pattern.finditer(text)\n",
        "\n",
        "for m in match:\n",
        "  print(m)"
      ],
      "execution_count": 0,
      "outputs": [
        {
          "output_type": "stream",
          "text": [
            "<_sre.SRE_Match object; span=(208, 220), match='321-555-4321'>\n",
            "<_sre.SRE_Match object; span=(221, 233), match='123.555.1234'>\n",
            "<_sre.SRE_Match object; span=(234, 246), match='123*555*1234'>\n",
            "<_sre.SRE_Match object; span=(247, 259), match='800-555-1234'>\n",
            "<_sre.SRE_Match object; span=(260, 272), match='900-555-1234'>\n"
          ],
          "name": "stdout"
        }
      ]
    },
    {
      "cell_type": "code",
      "metadata": {
        "id": "T9_XtGS5voqT",
        "colab_type": "code",
        "outputId": "6b8f0a01-6a2c-4c38-ebd9-267a48886709",
        "colab": {
          "base_uri": "https://localhost:8080/",
          "height": 51
        }
      },
      "source": [
        "# pattern for finding numbers starting from specific number such as 800. or 900.\n",
        "pattern = re.compile(r'[8|9]00.\\d\\d\\d.\\d\\d\\d\\d')\n",
        "match = pattern.finditer(text)\n",
        "for i in match:\n",
        "    print(i)"
      ],
      "execution_count": 0,
      "outputs": [
        {
          "output_type": "stream",
          "text": [
            "<_sre.SRE_Match object; span=(247, 259), match='800-555-1234'>\n",
            "<_sre.SRE_Match object; span=(260, 272), match='900-555-1234'>\n"
          ],
          "name": "stdout"
        }
      ]
    },
    {
      "cell_type": "code",
      "metadata": {
        "id": "e0eW6a0UwSqj",
        "colab_type": "code",
        "outputId": "68421225-9945-4360-967f-44026322969c",
        "colab": {
          "base_uri": "https://localhost:8080/",
          "height": 34
        }
      },
      "source": [
        "# pattern to find the numbers which starts except 8 and 9\n",
        "pattern = re.compile(r'\\d\\d\\d.[5][5][5].\\d\\d\\d[^4]')\n",
        "match = pattern.finditer(text)\n",
        "for i in match:\n",
        "    print(i)"
      ],
      "execution_count": 0,
      "outputs": [
        {
          "output_type": "stream",
          "text": [
            "<_sre.SRE_Match object; span=(208, 220), match='321-555-4321'>\n"
          ],
          "name": "stdout"
        }
      ]
    },
    {
      "cell_type": "code",
      "metadata": {
        "id": "JSZJWIybxHPl",
        "colab_type": "code",
        "outputId": "e361bbfe-5982-43a9-d49a-6babb2fbc59a",
        "colab": {
          "base_uri": "https://localhost:8080/",
          "height": 68
        }
      },
      "source": [
        "# Using Quantifiers means instead of writing \\d\\d\\d, we can write \\d{3}\n",
        "# pattern to find the numbers which starts except 8 and 9\n",
        "pattern = re.compile(r'[^8^9]\\d{2}[*.-]\\d{3}[*.-]\\d{4}')\n",
        "match = pattern.finditer(text)\n",
        "for i in match:\n",
        "    print(i)"
      ],
      "execution_count": 0,
      "outputs": [
        {
          "output_type": "stream",
          "text": [
            "<_sre.SRE_Match object; span=(208, 220), match='321-555-4321'>\n",
            "<_sre.SRE_Match object; span=(221, 233), match='123.555.1234'>\n",
            "<_sre.SRE_Match object; span=(234, 246), match='123*555*1234'>\n"
          ],
          "name": "stdout"
        }
      ]
    },
    {
      "cell_type": "code",
      "metadata": {
        "id": "niIECwdZxaEC",
        "colab_type": "code",
        "outputId": "084481ca-eca5-4468-ac10-3d1db9477c45",
        "colab": {
          "base_uri": "https://localhost:8080/",
          "height": 85
        }
      },
      "source": [
        "pattern = re.compile(r'@?gmail.com')\n",
        "match = pattern.finditer(text)\n",
        "for i in match:\n",
        "    print(i)"
      ],
      "execution_count": 0,
      "outputs": [
        {
          "output_type": "stream",
          "text": [
            "<_sre.SRE_Match object; span=(147, 157), match='@gmail.com'>\n",
            "<_sre.SRE_Match object; span=(167, 177), match='@gmail.com'>\n",
            "<_sre.SRE_Match object; span=(187, 197), match='@gmail.com'>\n",
            "<_sre.SRE_Match object; span=(198, 207), match='gmail.com'>\n"
          ],
          "name": "stdout"
        }
      ]
    },
    {
      "cell_type": "code",
      "metadata": {
        "id": "TgdEvAk66noM",
        "colab_type": "code",
        "colab": {
          "base_uri": "https://localhost:8080/",
          "height": 391
        },
        "outputId": "8b843929-0db6-4cff-e297-3766efc63391"
      },
      "source": [
        "print(text)"
      ],
      "execution_count": 37,
      "outputs": [
        {
          "output_type": "stream",
          "text": [
            "\n",
            "abcdefghijklmnopqurtuvwxyz\n",
            "ABCDEFGHIJKLMNOPQRSTUVWXYZ\n",
            "1234567890\n",
            "Ha HaHa\n",
            "MetaCharacters (Need to be escaped):\n",
            ". ^ $ * + ? { } [ ] \\ | ( )\n",
            "kunal222@gmail.com\n",
            "ravi12345@gmail.com\n",
            "rajan.123@gmail.com\n",
            "gmail.com\n",
            "321-555-4321\n",
            "123.555.1234\n",
            "123*555*1234\n",
            "800-555-1234\n",
            "900-555-1234\n",
            "Mr. Schafer\n",
            "Mr Smith\n",
            "Ms Davis\n",
            "Mrs. Robinson\n",
            "Mr. T\n",
            "\n"
          ],
          "name": "stdout"
        }
      ]
    },
    {
      "cell_type": "code",
      "metadata": {
        "id": "lTqyYHPWDFYH",
        "colab_type": "code",
        "colab": {}
      },
      "source": [
        ""
      ],
      "execution_count": 0,
      "outputs": []
    },
    {
      "cell_type": "code",
      "metadata": {
        "id": "OLeuGpV17RHn",
        "colab_type": "code",
        "colab": {
          "base_uri": "https://localhost:8080/",
          "height": 85
        },
        "outputId": "2008e83c-439f-4bc3-a574-0882c429636e"
      },
      "source": [
        "pattern = re.compile(r'\\d{3}[-*]\\d{3}[-*]\\d{4}')\n",
        "match = pattern.finditer(text)\n",
        "\n",
        "for m in match:\n",
        "  print(m)"
      ],
      "execution_count": 40,
      "outputs": [
        {
          "output_type": "stream",
          "text": [
            "<_sre.SRE_Match object; span=(208, 220), match='321-555-4321'>\n",
            "<_sre.SRE_Match object; span=(234, 246), match='123*555*1234'>\n",
            "<_sre.SRE_Match object; span=(247, 259), match='800-555-1234'>\n",
            "<_sre.SRE_Match object; span=(260, 272), match='900-555-1234'>\n"
          ],
          "name": "stdout"
        }
      ]
    },
    {
      "cell_type": "code",
      "metadata": {
        "id": "j_SLHTPa8ox6",
        "colab_type": "code",
        "colab": {}
      },
      "source": [
        "name = \"Rupal Tyagi\""
      ],
      "execution_count": 0,
      "outputs": []
    },
    {
      "cell_type": "code",
      "metadata": {
        "id": "SwL8S8dh9Ajt",
        "colab_type": "code",
        "colab": {
          "base_uri": "https://localhost:8080/",
          "height": 34
        },
        "outputId": "04741601-ff9e-434a-cd79-1b6993c35f83"
      },
      "source": [
        "name[-1::-1]"
      ],
      "execution_count": 47,
      "outputs": [
        {
          "output_type": "execute_result",
          "data": {
            "text/plain": [
              "'igayT lapuR'"
            ]
          },
          "metadata": {
            "tags": []
          },
          "execution_count": 47
        }
      ]
    },
    {
      "cell_type": "code",
      "metadata": {
        "id": "tZDR6hm89TWd",
        "colab_type": "code",
        "colab": {
          "base_uri": "https://localhost:8080/",
          "height": 34
        },
        "outputId": "a25d4a2d-7a43-44bb-fe5f-ccf7a0d4a403"
      },
      "source": [
        "text[260:272]"
      ],
      "execution_count": 48,
      "outputs": [
        {
          "output_type": "execute_result",
          "data": {
            "text/plain": [
              "'900-555-1234'"
            ]
          },
          "metadata": {
            "tags": []
          },
          "execution_count": 48
        }
      ]
    },
    {
      "cell_type": "code",
      "metadata": {
        "id": "xhx_QM1H9b9d",
        "colab_type": "code",
        "colab": {}
      },
      "source": [
        "# Mr. Schafer Mr Smith Ms Davis Mrs. Robinson Mr. T"
      ],
      "execution_count": 0,
      "outputs": []
    },
    {
      "cell_type": "code",
      "metadata": {
        "id": "0YZh_zns9t8f",
        "colab_type": "code",
        "colab": {
          "base_uri": "https://localhost:8080/",
          "height": 102
        },
        "outputId": "d156ab6a-a978-4efd-cd75-4e730aa468f2"
      },
      "source": [
        "pattern = re.compile(r'M(r|rs|s)\\.?\\s[A-Z]\\w*')\n",
        "match = pattern.finditer(text)\n",
        "\n",
        "for m in match:\n",
        "  print(m)"
      ],
      "execution_count": 78,
      "outputs": [
        {
          "output_type": "stream",
          "text": [
            "<_sre.SRE_Match object; span=(273, 284), match='Mr. Schafer'>\n",
            "<_sre.SRE_Match object; span=(285, 293), match='Mr Smith'>\n",
            "<_sre.SRE_Match object; span=(294, 302), match='Ms Davis'>\n",
            "<_sre.SRE_Match object; span=(303, 316), match='Mrs. Robinson'>\n",
            "<_sre.SRE_Match object; span=(317, 322), match='Mr. T'>\n"
          ],
          "name": "stdout"
        }
      ]
    },
    {
      "cell_type": "code",
      "metadata": {
        "id": "RWpeHzw1DIHp",
        "colab_type": "code",
        "colab": {}
      },
      "source": [
        "# Ha HaHa"
      ],
      "execution_count": 0,
      "outputs": []
    },
    {
      "cell_type": "code",
      "metadata": {
        "id": "kfzLJ7VkDKJq",
        "colab_type": "code",
        "colab": {
          "base_uri": "https://localhost:8080/",
          "height": 34
        },
        "outputId": "eaf5ced2-1be2-447f-db4f-c532ab6a8e29"
      },
      "source": [
        "save = re.compile(r'Ha\\s(Ha){2}')\n",
        "search=save.finditer(text)\n",
        "for s in search:\n",
        "  print(s)"
      ],
      "execution_count": 85,
      "outputs": [
        {
          "output_type": "stream",
          "text": [
            "<_sre.SRE_Match object; span=(66, 73), match='Ha HaHa'>\n"
          ],
          "name": "stdout"
        }
      ]
    },
    {
      "cell_type": "code",
      "metadata": {
        "id": "h88CNG4wEwnm",
        "colab_type": "code",
        "colab": {}
      },
      "source": [
        "# kunal222@gmail.com\n",
        "# ravi12345@gmail.com\n",
        "# rajan.123@gmail.com\n",
        "# gmail.com"
      ],
      "execution_count": 0,
      "outputs": []
    },
    {
      "cell_type": "code",
      "metadata": {
        "id": "jAkTn1mcE22t",
        "colab_type": "code",
        "colab": {
          "base_uri": "https://localhost:8080/",
          "height": 68
        },
        "outputId": "7c6088f7-460c-4fde-94db-3f3cac77da2f"
      },
      "source": [
        "# [a-zA-Z0-9\\.*-]\n",
        "save = re.compile(r'[a-z\\.0-9]+@?gmail.com')\n",
        "search=save.finditer(text)\n",
        "for s in search:\n",
        "  print(s)"
      ],
      "execution_count": 100,
      "outputs": [
        {
          "output_type": "stream",
          "text": [
            "<_sre.SRE_Match object; span=(139, 157), match='kunal222@gmail.com'>\n",
            "<_sre.SRE_Match object; span=(158, 177), match='ravi12345@gmail.com'>\n",
            "<_sre.SRE_Match object; span=(178, 197), match='rajan.123@gmail.com'>\n"
          ],
          "name": "stdout"
        }
      ]
    },
    {
      "cell_type": "code",
      "metadata": {
        "id": "Yxyr8Wt1G-vQ",
        "colab_type": "code",
        "colab": {}
      },
      "source": [
        "emails = '''\n",
        "CoreyMSchafer@gmail.com\n",
        "corey.schafer@university.edu\n",
        "corey-321-schafer@my-work.net\n",
        "'''"
      ],
      "execution_count": 0,
      "outputs": []
    },
    {
      "cell_type": "code",
      "metadata": {
        "id": "beS2ughoHDYV",
        "colab_type": "code",
        "colab": {
          "base_uri": "https://localhost:8080/",
          "height": 68
        },
        "outputId": "ccb15283-1f01-4cbf-ac46-f5b85f730194"
      },
      "source": [
        "pattern = re.compile(r'[a-zA-Z0-9\\.-]+@[a-z-]+\\w*\\.(com|edu|net)')\n",
        "search = pattern.finditer(emails)\n",
        "for s in search:\n",
        "  print(s)"
      ],
      "execution_count": 109,
      "outputs": [
        {
          "output_type": "stream",
          "text": [
            "<_sre.SRE_Match object; span=(1, 24), match='CoreyMSchafer@gmail.com'>\n",
            "<_sre.SRE_Match object; span=(25, 53), match='corey.schafer@university.edu'>\n",
            "<_sre.SRE_Match object; span=(54, 83), match='corey-321-schafer@my-work.net'>\n"
          ],
          "name": "stdout"
        }
      ]
    },
    {
      "cell_type": "code",
      "metadata": {
        "id": "Kgzl9amSLAse",
        "colab_type": "code",
        "colab": {}
      },
      "source": [
        "urls = '''\n",
        "https://www.google.com\n",
        "http://coreyms.com\n",
        "https://youtube.com\n",
        "https://www.nasa.gov\n",
        "'''"
      ],
      "execution_count": 0,
      "outputs": []
    },
    {
      "cell_type": "code",
      "metadata": {
        "id": "tZQDY_E3LFIM",
        "colab_type": "code",
        "colab": {
          "base_uri": "https://localhost:8080/",
          "height": 85
        },
        "outputId": "d2bef384-0470-4d98-fff6-466770989f16"
      },
      "source": [
        "pattern = re.compile(r'http[s]?://(www.)?\\w*\\.(com|gov)')\n",
        "match= pattern.finditer(urls)\n",
        "for m in match:\n",
        "  print(m)"
      ],
      "execution_count": 115,
      "outputs": [
        {
          "output_type": "stream",
          "text": [
            "<_sre.SRE_Match object; span=(1, 23), match='https://www.google.com'>\n",
            "<_sre.SRE_Match object; span=(24, 42), match='http://coreyms.com'>\n",
            "<_sre.SRE_Match object; span=(43, 62), match='https://youtube.com'>\n",
            "<_sre.SRE_Match object; span=(63, 83), match='https://www.nasa.gov'>\n"
          ],
          "name": "stdout"
        }
      ]
    },
    {
      "cell_type": "code",
      "metadata": {
        "id": "yIvy9WMaM3ST",
        "colab_type": "code",
        "colab": {
          "base_uri": "https://localhost:8080/",
          "height": 34
        },
        "outputId": "5dfc2800-2aa6-4e1c-a927-17e90c9d841e"
      },
      "source": [
        "# Quantifiers\n",
        "\"\"\"\n",
        "*       - 0 or More\n",
        "+       - 1 or More\n",
        "?       - 0 or One\n",
        "{3}     - Exact Number\n",
        "{3,4}   - Range of Numbers (Minimum, Maximum)\n",
        "\"\"\""
      ],
      "execution_count": 118,
      "outputs": [
        {
          "output_type": "execute_result",
          "data": {
            "text/plain": [
              "'\\n*       - 0 or More\\n+       - 1 or More\\n?       - 0 or One\\n{3}     - Exact Number\\n{3,4}   - Range of Numbers (Minimum, Maximum)\\n'"
            ]
          },
          "metadata": {
            "tags": []
          },
          "execution_count": 118
        }
      ]
    },
    {
      "cell_type": "code",
      "metadata": {
        "id": "rIhBsyDCM_gB",
        "colab_type": "code",
        "colab": {
          "base_uri": "https://localhost:8080/",
          "height": 34
        },
        "outputId": "f774672f-ef19-45d0-ba1e-8bdc8d3197bc"
      },
      "source": [
        "# Additional Revision 1\n",
        "\"\"\"\n",
        "[]      - Matches Characters in brackets\n",
        "[^ ]    - Matches Characters NOT in brackets\n",
        "|       - Either Or\n",
        "( )     - Group\n",
        "\"\"\""
      ],
      "execution_count": 117,
      "outputs": [
        {
          "output_type": "execute_result",
          "data": {
            "text/plain": [
              "'\\n[]      - Matches Characters in brackets\\n[^ ]    - Matches Characters NOT in brackets\\n|       - Either Or\\n( )     - Group\\n'"
            ]
          },
          "metadata": {
            "tags": []
          },
          "execution_count": 117
        }
      ]
    },
    {
      "cell_type": "code",
      "metadata": {
        "id": "dI9-Vu4wNFRh",
        "colab_type": "code",
        "colab": {
          "base_uri": "https://localhost:8080/",
          "height": 54
        },
        "outputId": "70ec53f3-8055-4965-e7f1-2bb56aa6a97d"
      },
      "source": [
        "# Additional Revision 2\n",
        "\"\"\"\n",
        ".       - Any Character Except New Line\n",
        "\\d      - Digit (0-9)\n",
        "\\D      - Not a Digit (0-9)\n",
        "\\w      - Word Character (a-z, A-Z, 0-9, _)\n",
        "\\W      - Not a Word Character\n",
        "\\s      - Whitespace (space, tab, newline)\n",
        "\\S      - Not Whitespace (space, tab, newline)\n",
        "\n",
        "\\b      - Word Boundary\n",
        "\\B      - Not a Word Boundary\n",
        "^       - Beginning of a String\n",
        "$       - End of a String\n",
        "\"\"\""
      ],
      "execution_count": 116,
      "outputs": [
        {
          "output_type": "execute_result",
          "data": {
            "text/plain": [
              "'\\n.       - Any Character Except New Line\\n\\\\d      - Digit (0-9)\\n\\\\D      - Not a Digit (0-9)\\n\\\\w      - Word Character (a-z, A-Z, 0-9, _)\\n\\\\W      - Not a Word Character\\n\\\\s      - Whitespace (space, tab, newline)\\n\\\\S      - Not Whitespace (space, tab, newline)\\n\\n\\x08      - Word Boundary\\n\\\\B      - Not a Word Boundary\\n^       - Beginning of a String\\n$       - End of a String\\n'"
            ]
          },
          "metadata": {
            "tags": []
          },
          "execution_count": 116
        }
      ]
    }
  ]
}