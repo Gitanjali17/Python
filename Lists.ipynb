{
  "nbformat": 4,
  "nbformat_minor": 0,
  "metadata": {
    "colab": {
      "name": "Lists.ipynb",
      "provenance": [],
      "include_colab_link": true
    },
    "kernelspec": {
      "name": "python3",
      "display_name": "Python 3"
    }
  },
  "cells": [
    {
      "cell_type": "markdown",
      "metadata": {
        "id": "view-in-github",
        "colab_type": "text"
      },
      "source": [
        "<a href=\"https://colab.research.google.com/github/Gitanjali17/Python/blob/master/Lists.ipynb\" target=\"_parent\"><img src=\"https://colab.research.google.com/assets/colab-badge.svg\" alt=\"Open In Colab\"/></a>"
      ]
    },
    {
      "cell_type": "code",
      "metadata": {
        "id": "E5QNGeRhHuU2",
        "colab_type": "code",
        "colab": {
          "base_uri": "https://localhost:8080/",
          "height": 34
        },
        "outputId": "df67b4b9-0532-4a73-ffa6-5d715d6512f5"
      },
      "source": [
        "List=[1,2,3,4,5,6,7,7,8,10]\n",
        "print(List)"
      ],
      "execution_count": 3,
      "outputs": [
        {
          "output_type": "stream",
          "text": [
            "[1, 2, 3, 4, 5, 6, 7, 7, 8, 10]\n"
          ],
          "name": "stdout"
        }
      ]
    },
    {
      "cell_type": "code",
      "metadata": {
        "id": "0kiUCKxZI1Mj",
        "colab_type": "code",
        "colab": {}
      },
      "source": [
        "List"
      ],
      "execution_count": 0,
      "outputs": []
    },
    {
      "cell_type": "code",
      "metadata": {
        "id": "_FVgPApBL2xO",
        "colab_type": "code",
        "colab": {
          "base_uri": "https://localhost:8080/",
          "height": 34
        },
        "outputId": "d6bb337d-1248-4eaf-d50d-5f0e9aab15d8"
      },
      "source": [
        "List=[1,2,3,3,34,44,4,4,4]\n",
        "List.append(12)\n",
        "print(List)"
      ],
      "execution_count": 11,
      "outputs": [
        {
          "output_type": "stream",
          "text": [
            "[1, 2, 3, 3, 34, 44, 4, 4, 4, 12]\n"
          ],
          "name": "stdout"
        }
      ]
    },
    {
      "cell_type": "code",
      "metadata": {
        "id": "u2hmMT2TMtEK",
        "colab_type": "code",
        "colab": {
          "base_uri": "https://localhost:8080/",
          "height": 34
        },
        "outputId": "eb964d0c-8ab9-4f07-8745-cd7b96b10a6c"
      },
      "source": [
        "List=[1,2,3,3,34,44,4,4,4]\n",
        "List.insert(3,12)\n",
        "print(List)"
      ],
      "execution_count": 13,
      "outputs": [
        {
          "output_type": "stream",
          "text": [
            "[1, 2, 3, 12, 3, 34, 44, 4, 4, 4]\n"
          ],
          "name": "stdout"
        }
      ]
    },
    {
      "cell_type": "code",
      "metadata": {
        "id": "dRbFQNeKM2dt",
        "colab_type": "code",
        "colab": {
          "base_uri": "https://localhost:8080/",
          "height": 34
        },
        "outputId": "a74f1e1b-0bee-4a53-ddcc-a2a50fb72986"
      },
      "source": [
        "List=[1,2,3,3,34,44,4,4,4]\n",
        "List.clear()\n",
        "print(List)"
      ],
      "execution_count": 16,
      "outputs": [
        {
          "output_type": "stream",
          "text": [
            "[]\n"
          ],
          "name": "stdout"
        }
      ]
    },
    {
      "cell_type": "code",
      "metadata": {
        "id": "CPJOl_zyM_Fv",
        "colab_type": "code",
        "colab": {
          "base_uri": "https://localhost:8080/",
          "height": 34
        },
        "outputId": "6c565b86-7bca-4e3a-e55f-68c302f8fcf5"
      },
      "source": [
        "List=[1,2,3,3,34,44,4,4,4]\n",
        "List1=List.copy()\n",
        "print(List1)\n"
      ],
      "execution_count": 22,
      "outputs": [
        {
          "output_type": "stream",
          "text": [
            "[1, 2, 3, 3, 34, 44, 4, 4, 4]\n"
          ],
          "name": "stdout"
        }
      ]
    },
    {
      "cell_type": "code",
      "metadata": {
        "id": "p6ushvq3OSUD",
        "colab_type": "code",
        "colab": {
          "base_uri": "https://localhost:8080/",
          "height": 34
        },
        "outputId": "78399372-0b42-4c52-ac83-28a5a8eea478"
      },
      "source": [
        "List=[1,2,3,3,34,44,4,4,4]\n",
        "a=List.count(3)\n",
        "print(a)"
      ],
      "execution_count": 34,
      "outputs": [
        {
          "output_type": "stream",
          "text": [
            "2\n"
          ],
          "name": "stdout"
        }
      ]
    },
    {
      "cell_type": "code",
      "metadata": {
        "id": "QEgqurvkP4ay",
        "colab_type": "code",
        "colab": {
          "base_uri": "https://localhost:8080/",
          "height": 34
        },
        "outputId": "e62c947d-c392-4f44-ffbb-a752511d2b05"
      },
      "source": [
        "List=[1,2,3,3,34,44,4,4,4]\n",
        "List1=[10,22,23]\n",
        "List1.extend(List)\n",
        "print(List1)"
      ],
      "execution_count": 45,
      "outputs": [
        {
          "output_type": "stream",
          "text": [
            "[10, 22, 23, 1, 2, 3, 3, 34, 44, 4, 4, 4]\n"
          ],
          "name": "stdout"
        }
      ]
    },
    {
      "cell_type": "code",
      "metadata": {
        "id": "SJkOlqvsRUCa",
        "colab_type": "code",
        "colab": {
          "base_uri": "https://localhost:8080/",
          "height": 34
        },
        "outputId": "2c7105b2-eaf7-4907-ec61-f748a81bafe6"
      },
      "source": [
        "List=[1,2,3,4,5,6,7,8,9,10,11,23]\n",
        "List=[1,2,3,3,34,44,4,4,4]\n",
        "List.index(4)"
      ],
      "execution_count": 68,
      "outputs": [
        {
          "output_type": "execute_result",
          "data": {
            "text/plain": [
              "6"
            ]
          },
          "metadata": {
            "tags": []
          },
          "execution_count": 68
        }
      ]
    },
    {
      "cell_type": "code",
      "metadata": {
        "id": "B7K1WjYlTSWn",
        "colab_type": "code",
        "colab": {
          "base_uri": "https://localhost:8080/",
          "height": 34
        },
        "outputId": "c32b5f4a-8c7e-4300-c6e7-5275c644192f"
      },
      "source": [
        "List=[1,2,3,3,34,44,4,4,4]\n",
        "List.insert(3,14)\n",
        "print(List)"
      ],
      "execution_count": 73,
      "outputs": [
        {
          "output_type": "stream",
          "text": [
            "[1, 2, 3, 14, 3, 34, 44, 4, 4, 4]\n"
          ],
          "name": "stdout"
        }
      ]
    },
    {
      "cell_type": "code",
      "metadata": {
        "id": "ylFd2WNoToOk",
        "colab_type": "code",
        "colab": {
          "base_uri": "https://localhost:8080/",
          "height": 34
        },
        "outputId": "e4a9461b-07cb-4abb-b82a-fa2afef0b265"
      },
      "source": [
        "List=[1,2,3,3,34,44,4,4,4]\n",
        "List.pop(5)\n",
        "print(List)"
      ],
      "execution_count": 74,
      "outputs": [
        {
          "output_type": "stream",
          "text": [
            "[1, 2, 3, 3, 34, 4, 4, 4]\n"
          ],
          "name": "stdout"
        }
      ]
    },
    {
      "cell_type": "code",
      "metadata": {
        "id": "Kdg4pcWeTxQb",
        "colab_type": "code",
        "colab": {
          "base_uri": "https://localhost:8080/",
          "height": 34
        },
        "outputId": "7e2a6e74-e826-42d7-d8b6-bb87d6e166df"
      },
      "source": [
        "List=[1,2,3,3,34,44,4,4,4]\n",
        "List.remove(34)\n",
        "print(List)"
      ],
      "execution_count": 76,
      "outputs": [
        {
          "output_type": "stream",
          "text": [
            "[1, 2, 3, 3, 44, 4, 4, 4]\n"
          ],
          "name": "stdout"
        }
      ]
    },
    {
      "cell_type": "code",
      "metadata": {
        "id": "JJORVLJjT5BD",
        "colab_type": "code",
        "colab": {
          "base_uri": "https://localhost:8080/",
          "height": 34
        },
        "outputId": "ef5f65c5-e37f-47d7-9ca1-135fc8bd012d"
      },
      "source": [
        "List=[1,2,3,3,34,44,4,4,4]\n",
        "List.reverse()\n",
        "print(List)"
      ],
      "execution_count": 78,
      "outputs": [
        {
          "output_type": "stream",
          "text": [
            "[4, 4, 4, 44, 34, 3, 3, 2, 1]\n"
          ],
          "name": "stdout"
        }
      ]
    },
    {
      "cell_type": "code",
      "metadata": {
        "id": "x-Pp7nn_UDCy",
        "colab_type": "code",
        "colab": {
          "base_uri": "https://localhost:8080/",
          "height": 34
        },
        "outputId": "cb8cb307-6a78-44d6-80e5-3e973b3a130d"
      },
      "source": [
        "List=[1,2,3,3,34,44,4,4,4]\n",
        "List.sort()\n",
        "print(List)"
      ],
      "execution_count": 79,
      "outputs": [
        {
          "output_type": "stream",
          "text": [
            "[1, 2, 3, 3, 4, 4, 4, 34, 44]\n"
          ],
          "name": "stdout"
        }
      ]
    },
    {
      "cell_type": "code",
      "metadata": {
        "id": "HVGIdREvUJbJ",
        "colab_type": "code",
        "colab": {
          "base_uri": "https://localhost:8080/",
          "height": 34
        },
        "outputId": "72064c7f-2cf8-4e93-b55b-dbd8db88c448"
      },
      "source": [
        "List=[1,2,5,8,0,6,34,11,10]\n",
        "List.sort(reverse=False)\n",
        "print(List)"
      ],
      "execution_count": 84,
      "outputs": [
        {
          "output_type": "stream",
          "text": [
            "[0, 1, 2, 5, 6, 8, 10, 11, 34]\n"
          ],
          "name": "stdout"
        }
      ]
    },
    {
      "cell_type": "code",
      "metadata": {
        "id": "ux3g2OSEVPbo",
        "colab_type": "code",
        "colab": {
          "base_uri": "https://localhost:8080/",
          "height": 34
        },
        "outputId": "a4756184-ad4f-4e2e-ff08-7560316b172d"
      },
      "source": [
        "List=[1,2,5,8,0,6,34,11,10]\n",
        "List.sort(reverse=True)\n",
        "print(List)"
      ],
      "execution_count": 85,
      "outputs": [
        {
          "output_type": "stream",
          "text": [
            "[34, 11, 10, 8, 6, 5, 2, 1, 0]\n"
          ],
          "name": "stdout"
        }
      ]
    },
    {
      "cell_type": "code",
      "metadata": {
        "id": "saQ96jMIVci3",
        "colab_type": "code",
        "colab": {
          "base_uri": "https://localhost:8080/",
          "height": 51
        },
        "outputId": "93f7718b-02ca-4cd5-dedb-a05c29afbc1f"
      },
      "source": [
        "List=[1,2,5,8,0,6,34,11,10]\n",
        "list1=sorted(List)\n",
        "print(list1)\n",
        "print(List)"
      ],
      "execution_count": 89,
      "outputs": [
        {
          "output_type": "stream",
          "text": [
            "[0, 1, 2, 5, 6, 8, 10, 11, 34]\n",
            "[1, 2, 5, 8, 0, 6, 34, 11, 10]\n"
          ],
          "name": "stdout"
        }
      ]
    },
    {
      "cell_type": "code",
      "metadata": {
        "id": "IOptHoWMV9wQ",
        "colab_type": "code",
        "colab": {}
      },
      "source": [
        ""
      ],
      "execution_count": 0,
      "outputs": []
    }
  ]
}