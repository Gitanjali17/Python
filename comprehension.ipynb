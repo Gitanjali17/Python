{
  "nbformat": 4,
  "nbformat_minor": 0,
  "metadata": {
    "colab": {
      "name": "comprehension.ipynb",
      "provenance": [],
      "collapsed_sections": [],
      "include_colab_link": true
    },
    "kernelspec": {
      "name": "python3",
      "display_name": "Python 3"
    }
  },
  "cells": [
    {
      "cell_type": "markdown",
      "metadata": {
        "id": "view-in-github",
        "colab_type": "text"
      },
      "source": [
        "<a href=\"https://colab.research.google.com/github/Gitanjali17/Python/blob/master/comprehension.ipynb\" target=\"_parent\"><img src=\"https://colab.research.google.com/assets/colab-badge.svg\" alt=\"Open In Colab\"/></a>"
      ]
    },
    {
      "cell_type": "code",
      "metadata": {
        "id": "z7b9dBxF2V_l",
        "colab_type": "code",
        "colab": {}
      },
      "source": [
        "def sum(a,b):\n",
        "   print(a+b)\n",
        "   print(a-b)"
      ],
      "execution_count": 0,
      "outputs": []
    },
    {
      "cell_type": "code",
      "metadata": {
        "id": "afBYolh42rbT",
        "colab_type": "code",
        "colab": {
          "base_uri": "https://localhost:8080/",
          "height": 51
        },
        "outputId": "68806fb6-b808-4a1d-8894-36ee3f5f9d03"
      },
      "source": [
        "sum(8,9)"
      ],
      "execution_count": 9,
      "outputs": [
        {
          "output_type": "stream",
          "text": [
            "17\n",
            "-1\n"
          ],
          "name": "stdout"
        }
      ]
    },
    {
      "cell_type": "code",
      "metadata": {
        "id": "U9gnx2dN3KFC",
        "colab_type": "code",
        "colab": {}
      },
      "source": [
        "def display():\n",
        "  print(\"I love India\")"
      ],
      "execution_count": 0,
      "outputs": []
    },
    {
      "cell_type": "code",
      "metadata": {
        "id": "n5zvWQAm3VGu",
        "colab_type": "code",
        "colab": {}
      },
      "source": [
        "rupal = display"
      ],
      "execution_count": 0,
      "outputs": []
    },
    {
      "cell_type": "code",
      "metadata": {
        "id": "Px2COqLz30Y8",
        "colab_type": "code",
        "colab": {
          "base_uri": "https://localhost:8080/",
          "height": 34
        },
        "outputId": "f89eac01-2471-43d9-e261-86099ec5a295"
      },
      "source": [
        "rupal()"
      ],
      "execution_count": 16,
      "outputs": [
        {
          "output_type": "stream",
          "text": [
            "I love India\n"
          ],
          "name": "stdout"
        }
      ]
    },
    {
      "cell_type": "code",
      "metadata": {
        "id": "88X9AnXd354b",
        "colab_type": "code",
        "colab": {}
      },
      "source": [
        "def printname():\n",
        "  name = input(\"Enter your name: \")\n",
        "  age = input(\"Age: \")\n",
        "  print(\"Name is\",name)\n",
        "  print(\"Age is\",age)\n"
      ],
      "execution_count": 0,
      "outputs": []
    },
    {
      "cell_type": "code",
      "metadata": {
        "id": "OOYvImRC5EuA",
        "colab_type": "code",
        "colab": {
          "base_uri": "https://localhost:8080/",
          "height": 85
        },
        "outputId": "022064ef-fb71-4908-f8ef-42cac4140468"
      },
      "source": [
        "printname()"
      ],
      "execution_count": 18,
      "outputs": [
        {
          "output_type": "stream",
          "text": [
            "Enter your name: kunal\n",
            "Age: 26\n",
            "Name is kunal\n",
            "Age is 26\n"
          ],
          "name": "stdout"
        }
      ]
    },
    {
      "cell_type": "code",
      "metadata": {
        "id": "XnCUlzOd5tls",
        "colab_type": "code",
        "colab": {}
      },
      "source": [
        "# String have one function format"
      ],
      "execution_count": 0,
      "outputs": []
    },
    {
      "cell_type": "code",
      "metadata": {
        "id": "xTBOj1jk5zwT",
        "colab_type": "code",
        "colab": {}
      },
      "source": [
        "name = \"Rupal\"\n",
        "age = 25"
      ],
      "execution_count": 0,
      "outputs": []
    },
    {
      "cell_type": "code",
      "metadata": {
        "id": "mLpcJJDI55ng",
        "colab_type": "code",
        "colab": {
          "base_uri": "https://localhost:8080/",
          "height": 51
        },
        "outputId": "ca5aa673-5a62-49b5-916a-1f770eba1fc2"
      },
      "source": [
        "print(\"Name is :{}\\nAge is :{}\".format(name,age))"
      ],
      "execution_count": 26,
      "outputs": [
        {
          "output_type": "stream",
          "text": [
            "Name is :Rupal\n",
            "Age is :25\n"
          ],
          "name": "stdout"
        }
      ]
    },
    {
      "cell_type": "code",
      "metadata": {
        "id": "pYVpNMmQ7Oat",
        "colab_type": "code",
        "colab": {}
      },
      "source": [
        "mylist = [1,2,3,4,5,6,7,8,9,10,11,12,13,14,15]"
      ],
      "execution_count": 0,
      "outputs": []
    },
    {
      "cell_type": "code",
      "metadata": {
        "id": "ZD2QuqlE7Sp2",
        "colab_type": "code",
        "colab": {}
      },
      "source": [
        "mylist1 =[]\n",
        "for i in mylist:\n",
        "  if i%2==0:\n",
        "    mylist1.append(i)"
      ],
      "execution_count": 0,
      "outputs": []
    },
    {
      "cell_type": "code",
      "metadata": {
        "id": "hzAvNpKu7vtR",
        "colab_type": "code",
        "colab": {
          "base_uri": "https://localhost:8080/",
          "height": 34
        },
        "outputId": "7b89452c-4679-461a-cb38-235d0ea96807"
      },
      "source": [
        "mylist1"
      ],
      "execution_count": 32,
      "outputs": [
        {
          "output_type": "execute_result",
          "data": {
            "text/plain": [
              "[2, 4, 6, 8]"
            ]
          },
          "metadata": {
            "tags": []
          },
          "execution_count": 32
        }
      ]
    },
    {
      "cell_type": "code",
      "metadata": {
        "id": "PKs7ftlE8NCx",
        "colab_type": "code",
        "colab": {}
      },
      "source": [
        "rupal = [r for r in mylist if r%3==0]"
      ],
      "execution_count": 0,
      "outputs": []
    },
    {
      "cell_type": "code",
      "metadata": {
        "id": "eUMC6WU-8iLN",
        "colab_type": "code",
        "colab": {
          "base_uri": "https://localhost:8080/",
          "height": 34
        },
        "outputId": "0cc041e2-e4c4-4da6-9f9d-7282277ef058"
      },
      "source": [
        "rupal"
      ],
      "execution_count": 39,
      "outputs": [
        {
          "output_type": "execute_result",
          "data": {
            "text/plain": [
              "[3, 6, 9]"
            ]
          },
          "metadata": {
            "tags": []
          },
          "execution_count": 39
        }
      ]
    },
    {
      "cell_type": "code",
      "metadata": {
        "id": "bNXh9-kT9DvF",
        "colab_type": "code",
        "colab": {
          "base_uri": "https://localhost:8080/",
          "height": 51
        },
        "outputId": "adf4b26e-6f3e-4688-8359-075d76e90561"
      },
      "source": [
        "for r in mylist:\n",
        "  if (r%2==0)&(r%3==0):\n",
        "    print(r)"
      ],
      "execution_count": 47,
      "outputs": [
        {
          "output_type": "stream",
          "text": [
            "6\n",
            "12\n"
          ],
          "name": "stdout"
        }
      ]
    },
    {
      "cell_type": "code",
      "metadata": {
        "id": "Ro0hq3Wi-Mid",
        "colab_type": "code",
        "colab": {}
      },
      "source": [
        "mylist3 = [i for i in mylist if (i%2==0)&(i%3==0)]"
      ],
      "execution_count": 0,
      "outputs": []
    },
    {
      "cell_type": "code",
      "metadata": {
        "id": "UIpWxeep_AAP",
        "colab_type": "code",
        "colab": {
          "base_uri": "https://localhost:8080/",
          "height": 34
        },
        "outputId": "2cd70028-882f-4323-a480-8c205d26f71a"
      },
      "source": [
        "mylist3"
      ],
      "execution_count": 49,
      "outputs": [
        {
          "output_type": "execute_result",
          "data": {
            "text/plain": [
              "[6, 12]"
            ]
          },
          "metadata": {
            "tags": []
          },
          "execution_count": 49
        }
      ]
    },
    {
      "cell_type": "code",
      "metadata": {
        "id": "uQjzyb9O_Opc",
        "colab_type": "code",
        "colab": {}
      },
      "source": [
        "mylist4= [i*i*i for i in mylist]"
      ],
      "execution_count": 0,
      "outputs": []
    },
    {
      "cell_type": "code",
      "metadata": {
        "id": "_lzRa7My_xW5",
        "colab_type": "code",
        "colab": {
          "base_uri": "https://localhost:8080/",
          "height": 34
        },
        "outputId": "a09f6331-f27e-4f04-f511-1b886891193a"
      },
      "source": [
        "mylist4"
      ],
      "execution_count": 56,
      "outputs": [
        {
          "output_type": "execute_result",
          "data": {
            "text/plain": [
              "[1, 8, 27, 64, 125, 216, 343, 512, 729, 1000, 1331, 1728, 2197, 2744, 3375]"
            ]
          },
          "metadata": {
            "tags": []
          },
          "execution_count": 56
        }
      ]
    },
    {
      "cell_type": "code",
      "metadata": {
        "id": "pCHFHVhFBxoe",
        "colab_type": "code",
        "colab": {}
      },
      "source": [
        "# Generator"
      ],
      "execution_count": 0,
      "outputs": []
    },
    {
      "cell_type": "code",
      "metadata": {
        "id": "bsyRbOMgB1x-",
        "colab_type": "code",
        "colab": {}
      },
      "source": [
        "nums = [1,2,3,4,5,6,7,8,9,10]\n",
        "\n",
        "def gen_fun(n):\n",
        "    for n in nums:\n",
        "        yield n*n"
      ],
      "execution_count": 0,
      "outputs": []
    },
    {
      "cell_type": "code",
      "metadata": {
        "id": "mMR5nrVeB7E_",
        "colab_type": "code",
        "colab": {
          "base_uri": "https://localhost:8080/",
          "height": 187
        },
        "outputId": "79f65394-6afe-4a4e-baa4-420e61b254bd"
      },
      "source": [
        "for i in gen_fun(nums):\n",
        "  print(i)"
      ],
      "execution_count": 62,
      "outputs": [
        {
          "output_type": "stream",
          "text": [
            "1\n",
            "4\n",
            "9\n",
            "16\n",
            "25\n",
            "36\n",
            "49\n",
            "64\n",
            "81\n",
            "100\n"
          ],
          "name": "stdout"
        }
      ]
    },
    {
      "cell_type": "code",
      "metadata": {
        "id": "0z_GA_p7Cdyu",
        "colab_type": "code",
        "colab": {}
      },
      "source": [
        "mytuple = (i*3 for i in nums)"
      ],
      "execution_count": 0,
      "outputs": []
    },
    {
      "cell_type": "code",
      "metadata": {
        "id": "jo0sQ5j6Cp8H",
        "colab_type": "code",
        "colab": {
          "base_uri": "https://localhost:8080/",
          "height": 187
        },
        "outputId": "766483c8-a07e-4572-c19c-f4ed87196f24"
      },
      "source": [
        "for i in mytuple:\n",
        "  print(i)"
      ],
      "execution_count": 65,
      "outputs": [
        {
          "output_type": "stream",
          "text": [
            "3\n",
            "6\n",
            "9\n",
            "12\n",
            "15\n",
            "18\n",
            "21\n",
            "24\n",
            "27\n",
            "30\n"
          ],
          "name": "stdout"
        }
      ]
    },
    {
      "cell_type": "code",
      "metadata": {
        "id": "6WPUlHLyCzPj",
        "colab_type": "code",
        "colab": {}
      },
      "source": [
        "mylist5 = [i*3 for i in nums]"
      ],
      "execution_count": 0,
      "outputs": []
    },
    {
      "cell_type": "code",
      "metadata": {
        "id": "dw79C7R5C5Y0",
        "colab_type": "code",
        "colab": {
          "base_uri": "https://localhost:8080/",
          "height": 34
        },
        "outputId": "ed03b240-b00d-4e51-a61b-7a3b7c53369a"
      },
      "source": [
        "mylist5"
      ],
      "execution_count": 67,
      "outputs": [
        {
          "output_type": "execute_result",
          "data": {
            "text/plain": [
              "[3, 6, 9, 12, 15, 18, 21, 24, 27, 30]"
            ]
          },
          "metadata": {
            "tags": []
          },
          "execution_count": 67
        }
      ]
    },
    {
      "cell_type": "code",
      "metadata": {
        "id": "NBBS1hh6C8UQ",
        "colab_type": "code",
        "colab": {
          "base_uri": "https://localhost:8080/",
          "height": 34
        },
        "outputId": "0b580636-5feb-42f8-e949-b4305f84c687"
      },
      "source": [
        "mytuple"
      ],
      "execution_count": 68,
      "outputs": [
        {
          "output_type": "execute_result",
          "data": {
            "text/plain": [
              "<generator object <genexpr> at 0x7fc48f42bf68>"
            ]
          },
          "metadata": {
            "tags": []
          },
          "execution_count": 68
        }
      ]
    }
  ]
}