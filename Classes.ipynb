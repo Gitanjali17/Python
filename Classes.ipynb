{
  "nbformat": 4,
  "nbformat_minor": 0,
  "metadata": {
    "colab": {
      "name": "Classes.ipynb",
      "provenance": [],
      "include_colab_link": true
    },
    "kernelspec": {
      "name": "python3",
      "display_name": "Python 3"
    }
  },
  "cells": [
    {
      "cell_type": "markdown",
      "metadata": {
        "id": "view-in-github",
        "colab_type": "text"
      },
      "source": [
        "<a href=\"https://colab.research.google.com/github/Gitanjali17/Python/blob/master/Classes.ipynb\" target=\"_parent\"><img src=\"https://colab.research.google.com/assets/colab-badge.svg\" alt=\"Open In Colab\"/></a>"
      ]
    },
    {
      "cell_type": "code",
      "metadata": {
        "id": "389lFioIBO7V",
        "colab_type": "code",
        "colab": {
          "base_uri": "https://localhost:8080/",
          "height": 34
        },
        "outputId": "7f7b42cf-5222-4c57-a572-5003347a3f7e"
      },
      "source": [
        "#to define class\n",
        "class Car:\n",
        "  x=5\n",
        "  c=Car()\n",
        "print(c.x)\n",
        " "
      ],
      "execution_count": 11,
      "outputs": [
        {
          "output_type": "stream",
          "text": [
            "5\n"
          ],
          "name": "stdout"
        }
      ]
    },
    {
      "cell_type": "code",
      "metadata": {
        "id": "oO19ydwDFOrE",
        "colab_type": "code",
        "colab": {
          "base_uri": "https://localhost:8080/",
          "height": 34
        },
        "outputId": "7004e848-ff91-4709-aa68-4f9624b0dd85"
      },
      "source": [
        " c=Car()\n",
        "print(c.x)"
      ],
      "execution_count": 10,
      "outputs": [
        {
          "output_type": "stream",
          "text": [
            "5\n"
          ],
          "name": "stdout"
        }
      ]
    },
    {
      "cell_type": "code",
      "metadata": {
        "id": "hA7z_k6BHKoH",
        "colab_type": "code",
        "colab": {
          "base_uri": "https://localhost:8080/",
          "height": 51
        },
        "outputId": "fcb208ec-5b45-4e55-b33e-0d605ea9eeec"
      },
      "source": [
        "class Car:\n",
        "  def __init__(self,brand,color):\n",
        "    self.brand=brand\n",
        "    self.color=color\n",
        "c=Car(\"Toyota\",\"red\")\n",
        "print(c.brand)\n",
        "print(c.color)\n"
      ],
      "execution_count": 18,
      "outputs": [
        {
          "output_type": "stream",
          "text": [
            "Toyota\n",
            "red\n"
          ],
          "name": "stdout"
        }
      ]
    },
    {
      "cell_type": "code",
      "metadata": {
        "id": "YDo-6GFpIeB9",
        "colab_type": "code",
        "colab": {
          "base_uri": "https://localhost:8080/",
          "height": 51
        },
        "outputId": "6de73521-1c7d-4310-8ddf-7cdd110179e2"
      },
      "source": [
        "class Person:\n",
        "  def __init__(self,name,age,mobile):\n",
        "    self.name=name\n",
        "    self.age=age\n",
        "    self.mobile=mobile\n",
        "  def display(muaah):\n",
        "    print(\"Queen is \" + muaah.name)\n",
        "\n",
        "p=Person(\"Rupal\",27,9811170944)\n",
        "p.display()\n",
        "p.age=28\n",
        "del p.age\n",
        "print(p.name)\n",
        "#print(p.age)\n",
        "\n",
        "\n"
      ],
      "execution_count": 31,
      "outputs": [
        {
          "output_type": "stream",
          "text": [
            "Queen is Rupal\n",
            "Rupal\n"
          ],
          "name": "stdout"
        }
      ]
    },
    {
      "cell_type": "code",
      "metadata": {
        "id": "R-DkHI9PMh8M",
        "colab_type": "code",
        "colab": {
          "base_uri": "https://localhost:8080/",
          "height": 34
        },
        "outputId": "a3194233-08d7-4751-df2b-d1c2327023eb"
      },
      "source": [
        "#Inheritance about to be started\n",
        "class Person:\n",
        "  def __init__(self,firstname,lastname):\n",
        "    self.firstname=firstname\n",
        "    self.lastname=lastname\n",
        "\n",
        "  def printname(self):\n",
        "    print(self.firstname,self.lastname)\n",
        "\n",
        "\n",
        "x=Student(\"Rupaliiii\",\"Tyagi\")\n",
        "x=Person(\"Rupal\",\"Tyagi\")\n",
        "x=Person(\"Rupallll\",\"Tyagi\")\n",
        "x=Student(\"Rupali\",\"Tyagi\")\n",
        "x.printname()\n",
        "\n",
        "class Student(Person):\n",
        "  pass"
      ],
      "execution_count": 18,
      "outputs": [
        {
          "output_type": "stream",
          "text": [
            "Rupali Tyagi\n"
          ],
          "name": "stdout"
        }
      ]
    },
    {
      "cell_type": "code",
      "metadata": {
        "id": "j4jydeg4Y25n",
        "colab_type": "code",
        "colab": {
          "base_uri": "https://localhost:8080/",
          "height": 34
        },
        "outputId": "3d2a5dcd-b7c5-4288-8c36-c1005fd039c0"
      },
      "source": [
        "class Person:\n",
        "  def __init__(self,firstname,lastname):\n",
        "    self.firstname=firstname\n",
        "    self.lastname=lastname\n",
        "\n",
        "  def printname(self):\n",
        "    print(self.firstname,self.lastname)\n",
        "\n",
        "\n",
        "x=Student(\"Rupali\",\"Tyagi\")\n",
        "x=Person(\"Rupallll\",\"Tyagi\")\n",
        "x.printname()\n",
        "\n",
        "class Student(Person):\n",
        "  def __init__(self,name,sirname):\n",
        "    Person.__init__(self,name,sirname)"
      ],
      "execution_count": 20,
      "outputs": [
        {
          "output_type": "stream",
          "text": [
            "Rupallll Tyagi\n"
          ],
          "name": "stdout"
        }
      ]
    },
    {
      "cell_type": "code",
      "metadata": {
        "id": "vZjjMUMgZYhJ",
        "colab_type": "code",
        "colab": {
          "base_uri": "https://localhost:8080/",
          "height": 231
        },
        "outputId": "fb4ab7ff-1ee5-4b61-9e17-c0f76694f81e"
      },
      "source": [
        "class Person:\n",
        "  def __init__(self,firstname,lastname):\n",
        "    self.firstname=firstname\n",
        "    self.lastname=lastname\n",
        "\n",
        "  def printname(self):\n",
        "    print(self.firstname,self.lastname)\n",
        "\n",
        "\n",
        "x=Student(\"Rupali\",\"Tyagi\",2013)\n",
        "x=Person(\"Rupallll\",\"Tyagi\")\n",
        "x.printname()\n",
        "\n",
        "class Student(Person):\n",
        "  def __init__(self,name,sirname,year):\n",
        "    super().__init__(name,sirname)\n",
        "    self.passingyear= year"
      ],
      "execution_count": 27,
      "outputs": [
        {
          "output_type": "error",
          "ename": "TypeError",
          "evalue": "ignored",
          "traceback": [
            "\u001b[0;31m---------------------------------------------------------------------------\u001b[0m",
            "\u001b[0;31mTypeError\u001b[0m                                 Traceback (most recent call last)",
            "\u001b[0;32m<ipython-input-27-3f77c80eb548>\u001b[0m in \u001b[0;36m<module>\u001b[0;34m()\u001b[0m\n\u001b[1;32m      8\u001b[0m \u001b[0;34m\u001b[0m\u001b[0m\n\u001b[1;32m      9\u001b[0m \u001b[0;34m\u001b[0m\u001b[0m\n\u001b[0;32m---> 10\u001b[0;31m \u001b[0mx\u001b[0m\u001b[0;34m=\u001b[0m\u001b[0mStudent\u001b[0m\u001b[0;34m(\u001b[0m\u001b[0;34m\"Rupali\"\u001b[0m\u001b[0;34m,\u001b[0m\u001b[0;34m\"Tyagi\"\u001b[0m\u001b[0;34m,\u001b[0m\u001b[0;36m2013\u001b[0m\u001b[0;34m)\u001b[0m\u001b[0;34m\u001b[0m\u001b[0;34m\u001b[0m\u001b[0m\n\u001b[0m\u001b[1;32m     11\u001b[0m \u001b[0mx\u001b[0m\u001b[0;34m=\u001b[0m\u001b[0mPerson\u001b[0m\u001b[0;34m(\u001b[0m\u001b[0;34m\"Rupallll\"\u001b[0m\u001b[0;34m,\u001b[0m\u001b[0;34m\"Tyagi\"\u001b[0m\u001b[0;34m)\u001b[0m\u001b[0;34m\u001b[0m\u001b[0;34m\u001b[0m\u001b[0m\n\u001b[1;32m     12\u001b[0m \u001b[0mx\u001b[0m\u001b[0;34m.\u001b[0m\u001b[0mprintname\u001b[0m\u001b[0;34m(\u001b[0m\u001b[0;34m)\u001b[0m\u001b[0;34m\u001b[0m\u001b[0;34m\u001b[0m\u001b[0m\n",
            "\u001b[0;31mTypeError\u001b[0m: __init__() takes 3 positional arguments but 4 were given"
          ]
        }
      ]
    },
    {
      "cell_type": "code",
      "metadata": {
        "id": "1WUD0q0EdHZ4",
        "colab_type": "code",
        "colab": {
          "base_uri": "https://localhost:8080/",
          "height": 34
        },
        "outputId": "7788720d-2ada-4171-c630-030b905b33f0"
      },
      "source": [
        "class Person:\n",
        "  def __init__(self,firstname,lastname):\n",
        "    self.firstname=firstname\n",
        "    self.lastname=lastname\n",
        "\n",
        "  def printname(self):\n",
        "    print(self.firstname,self.lastname)\n",
        "\n",
        "class Student(Person):\n",
        "  #pass\n",
        " x=Student(\"Rupali\",\"Tyagi\")\n",
        "x.printname()\n",
        "\n"
      ],
      "execution_count": 34,
      "outputs": [
        {
          "output_type": "stream",
          "text": [
            "Rupali Tyagi\n"
          ],
          "name": "stdout"
        }
      ]
    },
    {
      "cell_type": "code",
      "metadata": {
        "id": "dY7nExgvdoza",
        "colab_type": "code",
        "colab": {
          "base_uri": "https://localhost:8080/",
          "height": 350
        },
        "outputId": "c2fe6809-f27b-4fc3-e379-c70f835e480c"
      },
      "source": [
        "class Person:\n",
        "  def __init__(self,firstname,lastname):\n",
        "    self.firstname=firstname\n",
        "    self.lastname=lastname\n",
        "\n",
        "  def printname(self):\n",
        "    print(self.firstname,self.lastname)\n",
        "\n",
        "class Student(Person):\n",
        "  #pass\n",
        " x=Student(\"Rupali\",\"Tyagi\")\n",
        "x.printname()\n",
        "\n",
        "class Stud(Student):\n",
        "  x1=Stud(\"kusum\",\"Tyagi\")\n",
        "  #x1.printname()"
      ],
      "execution_count": 44,
      "outputs": [
        {
          "output_type": "stream",
          "text": [
            "Rupali Tyagi\n"
          ],
          "name": "stdout"
        },
        {
          "output_type": "error",
          "ename": "NameError",
          "evalue": "ignored",
          "traceback": [
            "\u001b[0;31m---------------------------------------------------------------------------\u001b[0m",
            "\u001b[0;31mNameError\u001b[0m                                 Traceback (most recent call last)",
            "\u001b[0;32m<ipython-input-44-d737a452cdc1>\u001b[0m in \u001b[0;36m<module>\u001b[0;34m()\u001b[0m\n\u001b[1;32m     12\u001b[0m \u001b[0mx\u001b[0m\u001b[0;34m.\u001b[0m\u001b[0mprintname\u001b[0m\u001b[0;34m(\u001b[0m\u001b[0;34m)\u001b[0m\u001b[0;34m\u001b[0m\u001b[0;34m\u001b[0m\u001b[0m\n\u001b[1;32m     13\u001b[0m \u001b[0;34m\u001b[0m\u001b[0m\n\u001b[0;32m---> 14\u001b[0;31m \u001b[0;32mclass\u001b[0m \u001b[0mStud\u001b[0m\u001b[0;34m(\u001b[0m\u001b[0mStudent\u001b[0m\u001b[0;34m)\u001b[0m\u001b[0;34m:\u001b[0m\u001b[0;34m\u001b[0m\u001b[0;34m\u001b[0m\u001b[0m\n\u001b[0m\u001b[1;32m     15\u001b[0m   \u001b[0mx1\u001b[0m\u001b[0;34m=\u001b[0m\u001b[0mStud\u001b[0m\u001b[0;34m(\u001b[0m\u001b[0;34m\"kusum\"\u001b[0m\u001b[0;34m,\u001b[0m\u001b[0;34m\"Tyagi\"\u001b[0m\u001b[0;34m)\u001b[0m\u001b[0;34m\u001b[0m\u001b[0;34m\u001b[0m\u001b[0m\n\u001b[1;32m     16\u001b[0m   \u001b[0;31m#x1.printname()\u001b[0m\u001b[0;34m\u001b[0m\u001b[0;34m\u001b[0m\u001b[0;34m\u001b[0m\u001b[0m\n",
            "\u001b[0;32m<ipython-input-44-d737a452cdc1>\u001b[0m in \u001b[0;36mStud\u001b[0;34m()\u001b[0m\n\u001b[1;32m     13\u001b[0m \u001b[0;34m\u001b[0m\u001b[0m\n\u001b[1;32m     14\u001b[0m \u001b[0;32mclass\u001b[0m \u001b[0mStud\u001b[0m\u001b[0;34m(\u001b[0m\u001b[0mStudent\u001b[0m\u001b[0;34m)\u001b[0m\u001b[0;34m:\u001b[0m\u001b[0;34m\u001b[0m\u001b[0;34m\u001b[0m\u001b[0m\n\u001b[0;32m---> 15\u001b[0;31m   \u001b[0mx1\u001b[0m\u001b[0;34m=\u001b[0m\u001b[0mStud\u001b[0m\u001b[0;34m(\u001b[0m\u001b[0;34m\"kusum\"\u001b[0m\u001b[0;34m,\u001b[0m\u001b[0;34m\"Tyagi\"\u001b[0m\u001b[0;34m)\u001b[0m\u001b[0;34m\u001b[0m\u001b[0;34m\u001b[0m\u001b[0m\n\u001b[0m\u001b[1;32m     16\u001b[0m   \u001b[0;31m#x1.printname()\u001b[0m\u001b[0;34m\u001b[0m\u001b[0;34m\u001b[0m\u001b[0;34m\u001b[0m\u001b[0m\n",
            "\u001b[0;31mNameError\u001b[0m: name 'Stud' is not defined"
          ]
        }
      ]
    },
    {
      "cell_type": "code",
      "metadata": {
        "id": "q1_wwwaUqgP5",
        "colab_type": "code",
        "colab": {}
      },
      "source": [
        ""
      ],
      "execution_count": 0,
      "outputs": []
    },
    {
      "cell_type": "code",
      "metadata": {
        "id": "zlLcZyOaqg7R",
        "colab_type": "code",
        "colab": {}
      },
      "source": [
        ""
      ],
      "execution_count": 0,
      "outputs": []
    },
    {
      "cell_type": "code",
      "metadata": {
        "id": "Ol6aKvkrdeAH",
        "colab_type": "code",
        "colab": {}
      },
      "source": [
        ""
      ],
      "execution_count": 0,
      "outputs": []
    }
  ]
}