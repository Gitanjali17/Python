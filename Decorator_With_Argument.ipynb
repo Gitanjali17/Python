{
  "nbformat": 4,
  "nbformat_minor": 0,
  "metadata": {
    "colab": {
      "name": "Decorator_With_Argument.ipynb",
      "provenance": [],
      "include_colab_link": true
    },
    "kernelspec": {
      "name": "python3",
      "display_name": "Python 3"
    }
  },
  "cells": [
    {
      "cell_type": "markdown",
      "metadata": {
        "id": "view-in-github",
        "colab_type": "text"
      },
      "source": [
        "<a href=\"https://colab.research.google.com/github/Gitanjali17/Python/blob/master/Decorator_With_Argument.ipynb\" target=\"_parent\"><img src=\"https://colab.research.google.com/assets/colab-badge.svg\" alt=\"Open In Colab\"/></a>"
      ]
    },
    {
      "cell_type": "code",
      "metadata": {
        "id": "4dDt5f927Avn",
        "colab_type": "code",
        "colab": {}
      },
      "source": [
        "def myfunc():\n",
        "  print(\"Rupal\")"
      ],
      "execution_count": 0,
      "outputs": []
    },
    {
      "cell_type": "code",
      "metadata": {
        "id": "2t3xfIlY7V0t",
        "colab_type": "code",
        "colab": {}
      },
      "source": [
        "myfunc2 = myfunc"
      ],
      "execution_count": 0,
      "outputs": []
    },
    {
      "cell_type": "code",
      "metadata": {
        "id": "IHdjaAlj7wnU",
        "colab_type": "code",
        "colab": {
          "base_uri": "https://localhost:8080/",
          "height": 34
        },
        "outputId": "26e56fad-b92a-481f-90c5-bf4b515aeca9"
      },
      "source": [
        "myfunc"
      ],
      "execution_count": 11,
      "outputs": [
        {
          "output_type": "execute_result",
          "data": {
            "text/plain": [
              "<function __main__.myfunc>"
            ]
          },
          "metadata": {
            "tags": []
          },
          "execution_count": 11
        }
      ]
    },
    {
      "cell_type": "code",
      "metadata": {
        "id": "809RDCaQ7782",
        "colab_type": "code",
        "colab": {
          "base_uri": "https://localhost:8080/",
          "height": 34
        },
        "outputId": "dc0fdfdd-1984-4a73-ab84-ee0b79232e52"
      },
      "source": [
        "myfunc2"
      ],
      "execution_count": 12,
      "outputs": [
        {
          "output_type": "execute_result",
          "data": {
            "text/plain": [
              "<function __main__.myfunc>"
            ]
          },
          "metadata": {
            "tags": []
          },
          "execution_count": 12
        }
      ]
    },
    {
      "cell_type": "code",
      "metadata": {
        "id": "jx5_WSR08GDg",
        "colab_type": "code",
        "colab": {
          "base_uri": "https://localhost:8080/",
          "height": 34
        },
        "outputId": "f8311422-cb8b-4e1d-c33c-39b77bd03378"
      },
      "source": [
        "myfunc2()"
      ],
      "execution_count": 13,
      "outputs": [
        {
          "output_type": "stream",
          "text": [
            "Rupal\n"
          ],
          "name": "stdout"
        }
      ]
    },
    {
      "cell_type": "code",
      "metadata": {
        "id": "7T6eSX9J8TjZ",
        "colab_type": "code",
        "colab": {}
      },
      "source": [
        "def myfunc():\n",
        "  def infunc():\n",
        "    print(\"Executing Infunc\")\n",
        "  return infunc"
      ],
      "execution_count": 0,
      "outputs": []
    },
    {
      "cell_type": "code",
      "metadata": {
        "id": "qDDDQhYS8wdD",
        "colab_type": "code",
        "colab": {}
      },
      "source": [
        "def myfunc1():\n",
        "  def infunc():\n",
        "    print(\"Executing bbb Infunc\")\n",
        "  return infunc()"
      ],
      "execution_count": 0,
      "outputs": []
    },
    {
      "cell_type": "code",
      "metadata": {
        "id": "nVfzq-0686ef",
        "colab_type": "code",
        "colab": {
          "base_uri": "https://localhost:8080/",
          "height": 34
        },
        "outputId": "e1b2429b-e786-4352-ae32-a13c8de9e6bc"
      },
      "source": [
        "myfunc2 = myfunc1()"
      ],
      "execution_count": 31,
      "outputs": [
        {
          "output_type": "stream",
          "text": [
            "Executing bbb Infunc\n"
          ],
          "name": "stdout"
        }
      ]
    },
    {
      "cell_type": "code",
      "metadata": {
        "id": "WWuB7OtQ9RB2",
        "colab_type": "code",
        "colab": {}
      },
      "source": [
        "def decorator_func(orignal):\n",
        "  def wrapper_func():\n",
        "    print(\"Displaying Orignal Function:\")\n",
        "    return orignal()\n",
        "  return wrapper_func"
      ],
      "execution_count": 0,
      "outputs": []
    },
    {
      "cell_type": "code",
      "metadata": {
        "id": "uhLi6Vzt-zyE",
        "colab_type": "code",
        "colab": {}
      },
      "source": [
        "def display():\n",
        "  print(\"Rupal Tyagi\")"
      ],
      "execution_count": 0,
      "outputs": []
    },
    {
      "cell_type": "code",
      "metadata": {
        "id": "iBsWGVNW9FAa",
        "colab_type": "code",
        "colab": {
          "base_uri": "https://localhost:8080/",
          "height": 34
        },
        "outputId": "32f01785-3c3a-4980-86ef-001fd7806d31"
      },
      "source": [
        "display()"
      ],
      "execution_count": 83,
      "outputs": [
        {
          "output_type": "stream",
          "text": [
            "Rupal Tyagi\n"
          ],
          "name": "stdout"
        }
      ]
    },
    {
      "cell_type": "code",
      "metadata": {
        "id": "YWF7cDVe_GeD",
        "colab_type": "code",
        "colab": {
          "base_uri": "https://localhost:8080/",
          "height": 51
        },
        "outputId": "2e46ab69-5f64-48d4-8cc5-12ae2d28f2a1"
      },
      "source": [
        "decorator_func(display)()"
      ],
      "execution_count": 84,
      "outputs": [
        {
          "output_type": "stream",
          "text": [
            "Displaying Orignal Function:\n",
            "Rupal Tyagi\n"
          ],
          "name": "stdout"
        }
      ]
    },
    {
      "cell_type": "code",
      "metadata": {
        "id": "Cibhp0BIAxed",
        "colab_type": "code",
        "colab": {
          "base_uri": "https://localhost:8080/",
          "height": 34
        },
        "outputId": "de194c69-04d3-49bb-a875-9a59464a7c3c"
      },
      "source": [
        "display()"
      ],
      "execution_count": 85,
      "outputs": [
        {
          "output_type": "stream",
          "text": [
            "Rupal Tyagi\n"
          ],
          "name": "stdout"
        }
      ]
    },
    {
      "cell_type": "code",
      "metadata": {
        "id": "IZOpbedc_1Tn",
        "colab_type": "code",
        "colab": {}
      },
      "source": [
        "@decorator_func\n",
        "def myfunc4():\n",
        "  print(\"Kishor Kunal\")"
      ],
      "execution_count": 0,
      "outputs": []
    },
    {
      "cell_type": "code",
      "metadata": {
        "id": "3zADTGBG_suI",
        "colab_type": "code",
        "colab": {
          "base_uri": "https://localhost:8080/",
          "height": 51
        },
        "outputId": "701dfefa-dc3e-4535-a4d9-75b5f474685c"
      },
      "source": [
        "myfunc4()"
      ],
      "execution_count": 95,
      "outputs": [
        {
          "output_type": "stream",
          "text": [
            "Displaying Orignal Function:\n",
            "Kishor Kunal\n"
          ],
          "name": "stdout"
        }
      ]
    },
    {
      "cell_type": "code",
      "metadata": {
        "id": "81hUiiRw_vPs",
        "colab_type": "code",
        "colab": {
          "base_uri": "https://localhost:8080/",
          "height": 34
        },
        "outputId": "105af9e0-3fb8-4940-a523-80e3122746a4"
      },
      "source": [
        "myfunc4()"
      ],
      "execution_count": 62,
      "outputs": [
        {
          "output_type": "stream",
          "text": [
            "Kishor Kunal\n"
          ],
          "name": "stdout"
        }
      ]
    },
    {
      "cell_type": "code",
      "metadata": {
        "id": "M4NY-_xtGWZ3",
        "colab_type": "code",
        "colab": {}
      },
      "source": [
        "def prefix_func(prefix):\n",
        "  def decorator(orignal):\n",
        "    def wrapper(*args,**kwargs):\n",
        "      print(prefix, \": code before executing {} function.\".format(orignal.__name__))\n",
        "      result = orignal()\n",
        "      print(prefix, \": code after execution {} function.\".format(orignal.__name__))\n",
        "      return result\n",
        "    return wrapper\n",
        "  return decorator"
      ],
      "execution_count": 0,
      "outputs": []
    },
    {
      "cell_type": "code",
      "metadata": {
        "id": "XF6qzmSVIilJ",
        "colab_type": "code",
        "colab": {}
      },
      "source": [
        "@prefix_func(\"Prefix Code\")\n",
        "def display5():\n",
        "  print(\"This is main Code.\")"
      ],
      "execution_count": 0,
      "outputs": []
    },
    {
      "cell_type": "code",
      "metadata": {
        "id": "zRyQiA0SIxN5",
        "colab_type": "code",
        "colab": {
          "base_uri": "https://localhost:8080/",
          "height": 68
        },
        "outputId": "947c0280-3a0d-47e3-bbfb-617ba8f4be3b"
      },
      "source": [
        "display5()"
      ],
      "execution_count": 106,
      "outputs": [
        {
          "output_type": "stream",
          "text": [
            "Prefix Code : code before executing display5 function.\n",
            "This is main Code.\n",
            "Prefix Code : code after execution display5 function.\n"
          ],
          "name": "stdout"
        }
      ]
    }
  ]
}